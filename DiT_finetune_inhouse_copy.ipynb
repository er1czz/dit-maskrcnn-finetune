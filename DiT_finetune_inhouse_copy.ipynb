{
 "cells": [
  {
   "cell_type": "code",
   "execution_count": null,
   "id": "13c3c001-95e8-439e-b2d0-16c9ac08a809",
   "metadata": {},
   "outputs": [],
   "source": [
    "import torch\n",
    "import detectron2\n",
    "from unilm.dit.object_detection.ditod import add_vit_config"
   ]
  },
  {
   "cell_type": "code",
   "execution_count": null,
   "id": "1897368f-9e3f-40f8-851d-ad581a0a5fbd",
   "metadata": {},
   "outputs": [],
   "source": [
    "# Some basic setup:\n",
    "# Setup detectron2 logger\n",
    "import detectron2\n",
    "from detectron2.utils.logger import setup_logger\n",
    "setup_logger()\n",
    "\n",
    "# import some common libraries\n",
    "import numpy as np\n",
    "import os, json, cv2, random\n",
    "import matplotlib.pyplot as plt\n",
    "from PIL import Image\n",
    "\n",
    "# import some common detectron2 utilities\n",
    "from detectron2.engine import DefaultPredictor\n",
    "from detectron2.config import get_cfg\n",
    "from detectron2.utils.visualizer import Visualizer\n",
    "from detectron2.data import MetadataCatalog, DatasetCatalog"
   ]
  },
  {
   "cell_type": "code",
   "execution_count": null,
   "id": "89bad814-b37f-485c-82ad-25a550c04a78",
   "metadata": {},
   "outputs": [],
   "source": [
    "from detectron2.data.datasets import register_coco_instances"
   ]
  },
  {
   "cell_type": "code",
   "execution_count": null,
   "id": "3682214e-67fd-429a-bac7-74e7c4f633eb",
   "metadata": {},
   "outputs": [],
   "source": [
    "register_coco_instances(\"inhouse_train\", {}, \"/home/ec2-user/data/ocr_annotated_inhouse_data_coco/train/coco.json\", \"/home/ec2-user/data/ocr_annotated_inhouse_data_coco/train\")\n",
    "register_coco_instances(\"inhouse_val\", {}, \"/home/ec2-user/data/ocr_annotated_inhouse_data_coco/val/coco.json\", \"/home/ec2-user/data/ocr_annotated_inhouse_data_coco/val\")"
   ]
  },
  {
   "cell_type": "code",
   "execution_count": null,
   "id": "8533fc7d-f122-4fd3-956d-3d52e9dfb4f0",
   "metadata": {},
   "outputs": [],
   "source": [
    "import os\n",
    "from unilm.dit.object_detection.ditod import MyTrainer\n",
    "\n",
    "# instantiate config\n",
    "cfg = get_cfg()\n",
    "add_vit_config(cfg)\n",
    "cfg.merge_from_file(\"/home/ec2-user/dit-document-layout-analysis/unilm/dit/object_detection/publaynet_configs/maskrcnn/maskrcnn_dit_base.yaml\")\n",
    "\n",
    "# load dataset\n",
    "cfg.DATASETS.TRAIN = (\"inhouse_train\",)\n",
    "cfg.DATASETS.TEST = (\"inhouse_val\",)\n",
    "cfg.DATALOADER.NUM_WORKERS = 2\n",
    "\n",
    "# add model weights URL to config\n",
    "cfg.MODEL.WEIGHTS = \"/home/ec2-user/model/publaynet_dit-b_mrcnn.pth\"\n",
    "\n",
    "# set device\n",
    "cfg.MODEL.DEVICE = \"cuda\" if torch.cuda.is_available() else \"cpu\"\n",
    "\n",
    "# train specs\n",
    "cfg.SOLVER.IMS_PER_BATCH = 2  # This is the real \"batch size\" commonly known to deep learning people\n",
    "cfg.SOLVER.BASE_LR = 0.00025  # pick a good LR\n",
    "cfg.SOLVER.MAX_ITER = 252000   # 300 epoch equal to max_iteration(252000) * batch_size(2)) / images_count(1680)\n",
    "cfg.SOLVER.STEPS = []        # do not decay learning rate\n",
    "# cfg.MODEL.ROI_HEADS.BATCH_SIZE_PER_IMAGE = 128   # The \"RoIHead batch size\". 128 is faster, and good enough for this toy dataset (default: 512)\n",
    "cfg.MODEL.ROI_HEADS.NUM_CLASSES = 1  # just blob\n",
    "\n",
    "os.makedirs(cfg.OUTPUT_DIR, exist_ok=True)\n",
    "trainer = MyTrainer(cfg)\n",
    "trainer.resume_or_load(resume=False)\n",
    "trainer.train()"
   ]
  },
  {
   "cell_type": "code",
   "execution_count": null,
   "id": "fa5ec031-2548-4647-864b-a0f04656fa73",
   "metadata": {},
   "outputs": [],
   "source": [
    "%load_ext tensorboard\n",
    "%tensorboard --logdir output"
   ]
  }
 ],
 "metadata": {
  "kernelspec": {
   "display_name": "Python 3 (ipykernel)",
   "language": "python",
   "name": "python3"
  },
  "language_info": {
   "codemirror_mode": {
    "name": "ipython",
    "version": 3
   },
   "file_extension": ".py",
   "mimetype": "text/x-python",
   "name": "python",
   "nbconvert_exporter": "python",
   "pygments_lexer": "ipython3",
   "version": "3.9.7"
  }
 },
 "nbformat": 4,
 "nbformat_minor": 5
}
